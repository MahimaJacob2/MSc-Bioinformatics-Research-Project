{
 "cells": [
  {
   "cell_type": "code",
   "execution_count": 1,
   "id": "a74ff958-81bf-4f92-90a5-87c8b5f00eb9",
   "metadata": {
    "tags": []
   },
   "outputs": [
    {
     "name": "stderr",
     "output_type": "stream",
     "text": [
      "C:\\Users\\tq22677\\AppData\\Local\\anaconda3\\Lib\\site-packages\\tpot\\builtins\\__init__.py:36: UserWarning: Warning: optional dependency `torch` is not available. - skipping import of NN models.\n",
      "  warnings.warn(\"Warning: optional dependency `torch` is not available. - skipping import of NN models.\")\n"
     ]
    }
   ],
   "source": [
    "#import modules required for machine learning\n",
    "import sys\n",
    "import time\n",
    "import matplotlib.pyplot as plt\n",
    "import numpy as np\n",
    "import pandas as pd\n",
    "from sklearn.ensemble import RandomForestClassifier\n",
    "from sklearn.linear_model import LogisticRegression\n",
    "from sklearn.model_selection import cross_val_score\n",
    "from sklearn.ensemble import RandomForestClassifier\n",
    "from sklearn.neighbors import KNeighborsClassifier\n",
    "from sklearn.neural_network import MLPClassifier\n",
    "from sklearn.svm import SVC\n",
    "from sklearn.feature_selection import SelectKBest, SelectPercentile, f_classif, chi2\n",
    "from sklearn.decomposition import PCA\n",
    "from sklearn.metrics import accuracy_score, precision_score, recall_score, f1_score, confusion_matrix, \\\n",
    "    classification_report, roc_auc_score \n",
    "from sklearn.model_selection import train_test_split, cross_val_score, cross_val_predict, GridSearchCV\n",
    "from tpot import TPOTClassifier\n",
    "from sklearn.preprocessing import LabelEncoder\n",
    "from sklearn.pipeline import make_pipeline\n",
    "from sklearn.preprocessing import MinMaxScaler\n",
    "from sklearn.decomposition import PCA\n",
    "from sklearn.linear_model import SGDClassifier\n",
    "from sklearn.model_selection import cross_val_score\n",
    "from sklearn.model_selection import cross_val_predict"
   ]
  },
  {
   "cell_type": "code",
   "execution_count": 2,
   "id": "f5077983-55e5-4d9f-9351-7b0fb8f19787",
   "metadata": {
    "tags": []
   },
   "outputs": [
    {
     "name": "stdout",
     "output_type": "stream",
     "text": [
      "Requirement already satisfied: tpot in c:\\users\\tq22677\\appdata\\local\\anaconda3\\lib\\site-packages (0.12.1)\n",
      "Requirement already satisfied: numpy>=1.16.3 in c:\\users\\tq22677\\appdata\\local\\anaconda3\\lib\\site-packages (from tpot) (1.24.3)\n",
      "Requirement already satisfied: scipy>=1.3.1 in c:\\users\\tq22677\\appdata\\local\\anaconda3\\lib\\site-packages (from tpot) (1.10.1)\n",
      "Requirement already satisfied: scikit-learn>=0.22.0 in c:\\users\\tq22677\\appdata\\local\\anaconda3\\lib\\site-packages (from tpot) (1.2.2)\n",
      "Requirement already satisfied: deap>=1.2 in c:\\users\\tq22677\\appdata\\local\\anaconda3\\lib\\site-packages (from tpot) (1.4.1)\n",
      "Requirement already satisfied: update-checker>=0.16 in c:\\users\\tq22677\\appdata\\local\\anaconda3\\lib\\site-packages (from tpot) (0.18.0)\n",
      "Requirement already satisfied: tqdm>=4.36.1 in c:\\users\\tq22677\\appdata\\local\\anaconda3\\lib\\site-packages (from tpot) (4.65.0)\n",
      "Requirement already satisfied: stopit>=1.1.1 in c:\\users\\tq22677\\appdata\\local\\anaconda3\\lib\\site-packages (from tpot) (1.1.2)\n",
      "Requirement already satisfied: pandas>=0.24.2 in c:\\users\\tq22677\\appdata\\local\\anaconda3\\lib\\site-packages (from tpot) (1.5.3)\n",
      "Requirement already satisfied: joblib>=0.13.2 in c:\\users\\tq22677\\appdata\\local\\anaconda3\\lib\\site-packages (from tpot) (1.2.0)\n",
      "Requirement already satisfied: xgboost>=1.1.0 in c:\\users\\tq22677\\appdata\\local\\anaconda3\\lib\\site-packages (from tpot) (1.7.6)\n",
      "Requirement already satisfied: python-dateutil>=2.8.1 in c:\\users\\tq22677\\appdata\\local\\anaconda3\\lib\\site-packages (from pandas>=0.24.2->tpot) (2.8.2)\n",
      "Requirement already satisfied: pytz>=2020.1 in c:\\users\\tq22677\\appdata\\local\\anaconda3\\lib\\site-packages (from pandas>=0.24.2->tpot) (2022.7)\n",
      "Requirement already satisfied: threadpoolctl>=2.0.0 in c:\\users\\tq22677\\appdata\\local\\anaconda3\\lib\\site-packages (from scikit-learn>=0.22.0->tpot) (2.2.0)\n",
      "Requirement already satisfied: colorama in c:\\users\\tq22677\\appdata\\local\\anaconda3\\lib\\site-packages (from tqdm>=4.36.1->tpot) (0.4.6)\n",
      "Requirement already satisfied: requests>=2.3.0 in c:\\users\\tq22677\\appdata\\local\\anaconda3\\lib\\site-packages (from update-checker>=0.16->tpot) (2.29.0)\n",
      "Requirement already satisfied: six>=1.5 in c:\\users\\tq22677\\appdata\\local\\anaconda3\\lib\\site-packages (from python-dateutil>=2.8.1->pandas>=0.24.2->tpot) (1.16.0)\n",
      "Requirement already satisfied: charset-normalizer<4,>=2 in c:\\users\\tq22677\\appdata\\local\\anaconda3\\lib\\site-packages (from requests>=2.3.0->update-checker>=0.16->tpot) (2.0.4)\n",
      "Requirement already satisfied: idna<4,>=2.5 in c:\\users\\tq22677\\appdata\\local\\anaconda3\\lib\\site-packages (from requests>=2.3.0->update-checker>=0.16->tpot) (3.4)\n",
      "Requirement already satisfied: urllib3<1.27,>=1.21.1 in c:\\users\\tq22677\\appdata\\local\\anaconda3\\lib\\site-packages (from requests>=2.3.0->update-checker>=0.16->tpot) (1.26.16)\n",
      "Requirement already satisfied: certifi>=2017.4.17 in c:\\users\\tq22677\\appdata\\local\\anaconda3\\lib\\site-packages (from requests>=2.3.0->update-checker>=0.16->tpot) (2023.5.7)\n"
     ]
    }
   ],
   "source": [
    "#install tpot for optmisation stage later on\n",
    "!pip install --upgrade tpot"
   ]
  },
  {
   "cell_type": "code",
   "execution_count": 3,
   "id": "b1e5e057-fdb1-4e34-97d0-121b08d1acbf",
   "metadata": {
    "tags": []
   },
   "outputs": [
    {
     "name": "stdout",
     "output_type": "stream",
     "text": [
      "Index(['pattern_id', 'ERR084492.unitigs.fa', 'ERR084493.unitigs.fa',\n",
      "       'ERR084494.unitigs.fa', 'ERR084496.unitigs.fa', 'ERR084497.unitigs.fa',\n",
      "       'ERR084498.unitigs.fa', 'ERR084499.unitigs.fa', 'ERR084500.unitigs.fa',\n",
      "       'ERR084501.unitigs.fa',\n",
      "       ...\n",
      "       'ERR223148.unitigs.fa', 'ERR223159.unitigs.fa', 'ERR223160.unitigs.fa',\n",
      "       'ERR223161.unitigs.fa', 'ERR223162.unitigs.fa', 'ERR223163.unitigs.fa',\n",
      "       'ERR223165.unitigs.fa', 'ERR223166.unitigs.fa', 'ERR223167.unitigs.fa',\n",
      "       'ERR223168.unitigs.fa'],\n",
      "      dtype='object', length=1093)\n"
     ]
    }
   ],
   "source": [
    "#open count.rtab file to create first histogram\n",
    "with open(\"counts.rtab\", 'rt') as f:\n",
    "    data = pd.read_table(f, sep=\"\\t\")\n",
    "print(data.columns)"
   ]
  },
  {
   "cell_type": "markdown",
   "id": "d51e40b1-e678-45e6-a34d-e67e521e69ef",
   "metadata": {},
   "source": [
    "1092 unitigs, each has a column, each pattern has a row - and along that row is a 1 or a 0 if the unitig is present or not\n",
    "\n",
    "ERR084492 is the isolate label\n",
    "The pattern is the isolate name (1st column)\n",
    "And presence is the 1 or 0\n",
    "There are 300000 unitigs and 1092 isolates\n",
    "\n",
    "\n",
    "To make the first histogram think of rows being samples and \n",
    "the columns as features. If you sum each you will get a count \n",
    "of the isolates per feature. Then make a histogram out of that.\n",
    "Cols are unitigs, rows are isolates. So sum each row and make a histogram out of that."
   ]
  },
  {
   "cell_type": "code",
   "execution_count": 4,
   "id": "d114db44-8d6a-487e-b5eb-4a275e9f03df",
   "metadata": {},
   "outputs": [
    {
     "name": "stdout",
     "output_type": "stream",
     "text": [
      "0         1087\n",
      "1         1087\n",
      "2         1087\n",
      "3         1088\n",
      "4         1088\n",
      "          ... \n",
      "305057       9\n",
      "305058       3\n",
      "305059       5\n",
      "305060       4\n",
      "305061       1\n",
      "Length: 305062, dtype: int64\n"
     ]
    },
    {
     "data": {
      "image/png": "[encoded data removed]",
      "text/plain": [
       "<Figure size 640x480 with 1 Axes>"
      ]
     },
     "metadata": {},
     "output_type": "display_data"
    }
   ],
   "source": [
    "#HISTOGRAM 1 \n",
    "summary = data.iloc[:,1:].sum(axis=1)\n",
    "print(summary)\n",
    "summary.plot.hist()\n",
    "plt.xlabel('Count of unitig presence')\n",
    "plt.show()"
   ]
  },
  {
   "cell_type": "code",
   "execution_count": 5,
   "id": "875c683e-2792-4915-8109-299b9c673d91",
   "metadata": {},
   "outputs": [
    {
     "data": {
      "image/png": "[encoded data removed]",
      "text/plain": [
       "<Figure size 640x480 with 1 Axes>"
      ]
     },
     "metadata": {},
     "output_type": "display_data"
    }
   ],
   "source": [
    "# The below generates the vcf file\n",
    "# perl variants_to_patterns -i counts.rtab -o output.vcf -c conversion.txt COMMAND LINE INSTRUCTION\n",
    "# create a histogram showing patterns presence/absence in isolates\n",
    "with open(\"output.vcf\", 'rt') as f:\n",
    "    data_vcf = pd.read_table(f, sep=\"\\t\")\n",
    "summary_vcf = data_vcf.iloc[:,1:].sum(axis=1)\n",
    "summary_vcf.plot.hist()\n",
    "plt.xlabel('Patterns presence / absence in isolates')\n",
    "plt.show()\n",
    "\n"
   ]
  },
  {
   "cell_type": "code",
   "execution_count": 6,
   "id": "a38f543d-e9ac-4871-8f1f-a269a3d6f217",
   "metadata": {},
   "outputs": [
    {
     "name": "stdout",
     "output_type": "stream",
     "text": [
      "   id  ERR084492.unitigs.fa  ERR084493.unitigs.fa  ERR084494.unitigs.fa  \\\n",
      "0   1                     1                     1                     1   \n",
      "1   2                     1                     1                     1   \n",
      "2   3                     1                     1                     1   \n",
      "3   4                     1                     1                     1   \n",
      "4   5                     1                     1                     1   \n",
      "\n",
      "   ERR084496.unitigs.fa  ERR084497.unitigs.fa  ERR084498.unitigs.fa  \\\n",
      "0                     1                     1                     1   \n",
      "1                     1                     1                     1   \n",
      "2                     1                     1                     1   \n",
      "3                     1                     1                     1   \n",
      "4                     1                     1                     1   \n",
      "\n",
      "   ERR084499.unitigs.fa  ERR084500.unitigs.fa  ERR084501.unitigs.fa  ...  \\\n",
      "0                     1                     1                     1  ...   \n",
      "1                     1                     1                     1  ...   \n",
      "2                     1                     1                     1  ...   \n",
      "3                     1                     1                     1  ...   \n",
      "4                     1                     1                     1  ...   \n",
      "\n",
      "   ERR223148.unitigs.fa  ERR223159.unitigs.fa  ERR223160.unitigs.fa  \\\n",
      "0                     1                     1                     1   \n",
      "1                     1                     1                     1   \n",
      "2                     1                     1                     1   \n",
      "3                     1                     1                     1   \n",
      "4                     1                     1                     1   \n",
      "\n",
      "   ERR223161.unitigs.fa  ERR223162.unitigs.fa  ERR223163.unitigs.fa  \\\n",
      "0                     1                     1                     1   \n",
      "1                     1                     1                     1   \n",
      "2                     1                     1                     1   \n",
      "3                     1                     1                     1   \n",
      "4                     1                     1                     1   \n",
      "\n",
      "   ERR223165.unitigs.fa  ERR223166.unitigs.fa  ERR223167.unitigs.fa  \\\n",
      "0                     1                     1                     1   \n",
      "1                     1                     1                     1   \n",
      "2                     1                     1                     1   \n",
      "3                     1                     1                     1   \n",
      "4                     1                     1                     1   \n",
      "\n",
      "   ERR223168.unitigs.fa  \n",
      "0                     1  \n",
      "1                     1  \n",
      "2                     1  \n",
      "3                     1  \n",
      "4                     1  \n",
      "\n",
      "[5 rows x 1093 columns]\n"
     ]
    }
   ],
   "source": [
    "# View the head of the dataset\n",
    "head_dataset = (data_vcf.head())\n",
    "\n",
    "head_dataset = data_vcf #.head(N)\n",
    "print(data_vcf.head())"
   ]
  },
  {
   "cell_type": "code",
   "execution_count": 7,
   "id": "48eefdd3-05fa-463e-a2b3-3302724f334f",
   "metadata": {},
   "outputs": [
    {
     "name": "stdout",
     "output_type": "stream",
     "text": [
      "          id  ERR084492.unitigs.fa  ERR084493.unitigs.fa  \\\n",
      "0          1                     1                     1   \n",
      "1          2                     1                     1   \n",
      "2          3                     1                     1   \n",
      "3          4                     1                     1   \n",
      "4          5                     1                     1   \n",
      "...      ...                   ...                   ...   \n",
      "54719  54720                     0                     0   \n",
      "54720  54721                     0                     0   \n",
      "54721  54722                     0                     0   \n",
      "54722  54723                     0                     0   \n",
      "54723  54724                     0                     0   \n",
      "\n",
      "       ERR084494.unitigs.fa  ERR084496.unitigs.fa  ERR084497.unitigs.fa  \\\n",
      "0                         1                     1                     1   \n",
      "1                         1                     1                     1   \n",
      "2                         1                     1                     1   \n",
      "3                         1                     1                     1   \n",
      "4                         1                     1                     1   \n",
      "...                     ...                   ...                   ...   \n",
      "54719                     0                     0                     0   \n",
      "54720                     0                     0                     0   \n",
      "54721                     0                     0                     0   \n",
      "54722                     0                     0                     0   \n",
      "54723                     0                     0                     0   \n",
      "\n",
      "       ERR084498.unitigs.fa  ERR084499.unitigs.fa  ERR084500.unitigs.fa  \\\n",
      "0                         1                     1                     1   \n",
      "1                         1                     1                     1   \n",
      "2                         1                     1                     1   \n",
      "3                         1                     1                     1   \n",
      "4                         1                     1                     1   \n",
      "...                     ...                   ...                   ...   \n",
      "54719                     0                     0                     0   \n",
      "54720                     0                     0                     0   \n",
      "54721                     0                     0                     0   \n",
      "54722                     0                     0                     0   \n",
      "54723                     0                     0                     0   \n",
      "\n",
      "       ERR084501.unitigs.fa  ...  ERR223148.unitigs.fa  ERR223159.unitigs.fa  \\\n",
      "0                         1  ...                     1                     1   \n",
      "1                         1  ...                     1                     1   \n",
      "2                         1  ...                     1                     1   \n",
      "3                         1  ...                     1                     1   \n",
      "4                         1  ...                     1                     1   \n",
      "...                     ...  ...                   ...                   ...   \n",
      "54719                     0  ...                     0                     0   \n",
      "54720                     0  ...                     0                     0   \n",
      "54721                     0  ...                     0                     0   \n",
      "54722                     0  ...                     0                     0   \n",
      "54723                     0  ...                     0                     0   \n",
      "\n",
      "       ERR223160.unitigs.fa  ERR223161.unitigs.fa  ERR223162.unitigs.fa  \\\n",
      "0                         1                     1                     1   \n",
      "1                         1                     1                     1   \n",
      "2                         1                     1                     1   \n",
      "3                         1                     1                     1   \n",
      "4                         1                     1                     1   \n",
      "...                     ...                   ...                   ...   \n",
      "54719                     0                     0                     0   \n",
      "54720                     1                     0                     0   \n",
      "54721                     0                     0                     0   \n",
      "54722                     0                     0                     0   \n",
      "54723                     0                     0                     0   \n",
      "\n",
      "       ERR223163.unitigs.fa  ERR223165.unitigs.fa  ERR223166.unitigs.fa  \\\n",
      "0                         1                     1                     1   \n",
      "1                         1                     1                     1   \n",
      "2                         1                     1                     1   \n",
      "3                         1                     1                     1   \n",
      "4                         1                     1                     1   \n",
      "...                     ...                   ...                   ...   \n",
      "54719                     0                     0                     0   \n",
      "54720                     0                     0                     0   \n",
      "54721                     0                     0                     0   \n",
      "54722                     0                     0                     0   \n",
      "54723                     0                     0                     0   \n",
      "\n",
      "       ERR223167.unitigs.fa  ERR223168.unitigs.fa  \n",
      "0                         1                     1  \n",
      "1                         1                     1  \n",
      "2                         1                     1  \n",
      "3                         1                     1  \n",
      "4                         1                     1  \n",
      "...                     ...                   ...  \n",
      "54719                     0                     0  \n",
      "54720                     0                     0  \n",
      "54721                     0                     0  \n",
      "54722                     0                     0  \n",
      "54723                     0                     0  \n",
      "\n",
      "[54724 rows x 1093 columns]\n"
     ]
    }
   ],
   "source": [
    "#make it into a dataframe\n",
    "head_dataset_df = pd.DataFrame(head_dataset)\n",
    "print(head_dataset_df)"
   ]
  },
  {
   "cell_type": "code",
   "execution_count": 8,
   "id": "51337574-c2bd-4c42-b089-0b8d12d696c3",
   "metadata": {},
   "outputs": [
    {
     "name": "stdout",
     "output_type": "stream",
     "text": [
      "   id  ERR084492  ERR084493  ERR084494  ERR084496  ERR084497  ERR084498  \\\n",
      "0   1          1          1          1          1          1          1   \n",
      "1   2          1          1          1          1          1          1   \n",
      "2   3          1          1          1          1          1          1   \n",
      "3   4          1          1          1          1          1          1   \n",
      "4   5          1          1          1          1          1          1   \n",
      "\n",
      "   ERR084499  ERR084500  ERR084501  ...  ERR223148  ERR223159  ERR223160  \\\n",
      "0          1          1          1  ...          1          1          1   \n",
      "1          1          1          1  ...          1          1          1   \n",
      "2          1          1          1  ...          1          1          1   \n",
      "3          1          1          1  ...          1          1          1   \n",
      "4          1          1          1  ...          1          1          1   \n",
      "\n",
      "   ERR223161  ERR223162  ERR223163  ERR223165  ERR223166  ERR223167  ERR223168  \n",
      "0          1          1          1          1          1          1          1  \n",
      "1          1          1          1          1          1          1          1  \n",
      "2          1          1          1          1          1          1          1  \n",
      "3          1          1          1          1          1          1          1  \n",
      "4          1          1          1          1          1          1          1  \n",
      "\n",
      "[5 rows x 1093 columns]\n"
     ]
    }
   ],
   "source": [
    "# Remove the 'unitigs.fa' part from the sample names\n",
    "head_dataset_df.columns = head_dataset_df.columns.str.replace('.unitigs.fa', '', regex=False)\n",
    "\n",
    "# View the modified DataFrame\n",
    "print(head_dataset_df.head())"
   ]
  },
  {
   "cell_type": "code",
   "execution_count": 9,
   "id": "d6d99d3f-e321-42a7-9a8d-1573af3527fc",
   "metadata": {},
   "outputs": [
    {
     "name": "stdout",
     "output_type": "stream",
     "text": [
      "           0      1      2      3      4      5      6      7      8      \\\n",
      "id             1      2      3      4      5      6      7      8      9   \n",
      "ERR084492      1      1      1      1      1      1      1      0      1   \n",
      "ERR084493      1      1      1      1      1      1      1      1      1   \n",
      "ERR084494      1      1      1      1      1      1      1      1      1   \n",
      "ERR084496      1      1      1      1      1      1      1      1      1   \n",
      "\n",
      "           9      ...  54714  54715  54716  54717  54718  54719  54720  54721  \\\n",
      "id            10  ...  54715  54716  54717  54718  54719  54720  54721  54722   \n",
      "ERR084492      1  ...      0      0      0      0      0      0      0      0   \n",
      "ERR084493      1  ...      0      0      0      0      0      0      0      0   \n",
      "ERR084494      1  ...      0      0      0      0      0      0      0      0   \n",
      "ERR084496      1  ...      0      0      0      0      0      0      0      0   \n",
      "\n",
      "           54722  54723  \n",
      "id         54723  54724  \n",
      "ERR084492      0      0  \n",
      "ERR084493      0      0  \n",
      "ERR084494      0      0  \n",
      "ERR084496      0      0  \n",
      "\n",
      "[5 rows x 54724 columns]\n"
     ]
    }
   ],
   "source": [
    "# Transpose the DataFrame\n",
    "transposed_df = head_dataset_df.transpose()\n",
    "\n",
    "# View the transposed DataFrame\n",
    "print(transposed_df.head())"
   ]
  },
  {
   "cell_type": "code",
   "execution_count": 10,
   "id": "ac8f611d-74eb-430f-ae5f-9430953da7e1",
   "metadata": {},
   "outputs": [
    {
     "name": "stdout",
     "output_type": "stream",
     "text": [
      "Number of patterns in the dataset: 54723\n"
     ]
    }
   ],
   "source": [
    "num_patterns = len(summary_vcf) - 1  # Subtract 1 to exclude the 'id' column\n",
    "print(\"Number of patterns in the dataset:\", num_patterns)\n",
    "\n",
    "#no of patterns = genetic features (what we use to train the models predictive behaviour on)"
   ]
  },
  {
   "cell_type": "code",
   "execution_count": 11,
   "id": "fbdb0e0a-380f-4519-9e95-54040810de27",
   "metadata": {},
   "outputs": [
    {
     "name": "stdout",
     "output_type": "stream",
     "text": [
      "Number of patterns removed: 2114\n"
     ]
    }
   ],
   "source": [
    "# With the DataFrame called data_vcf containing the data\n",
    "# Calculate the sum of each row, excluding the first column\n",
    "row_summary_vcf = data_vcf.iloc[:, 1:].sum(axis=1)\n",
    "\n",
    "# Filter rows based on the conditions: filter out patterns in only one isolate (or all isolates but one)\n",
    "row_summary_vcf_filtered = row_summary_vcf[(row_summary_vcf > 1) & (row_summary_vcf < 1091)]\n",
    "\n",
    "# Count the number of patterns removed\n",
    "patterns_removed = len(row_summary_vcf) - len(row_summary_vcf_filtered)\n",
    "\n",
    "# Print the number of patterns removed\n",
    "print(f\"Number of patterns removed: {patterns_removed}\")\n"
   ]
  },
  {
   "cell_type": "code",
   "execution_count": 12,
   "id": "bbc0003e-0f05-43c3-bf2c-c2290840acbd",
   "metadata": {},
   "outputs": [
    {
     "name": "stdout",
     "output_type": "stream",
     "text": [
      "0    1087\n",
      "1    1088\n",
      "2    1087\n",
      "3    1089\n",
      "4    1087\n",
      "dtype: int64\n"
     ]
    }
   ],
   "source": [
    "#view row_summary_vcf_filtered\n",
    "print(row_summary_vcf_filtered.head())"
   ]
  },
  {
   "cell_type": "code",
   "execution_count": 13,
   "id": "ebe50e32-e37b-4d61-bc45-5d4371a6cd68",
   "metadata": {},
   "outputs": [
    {
     "name": "stdout",
     "output_type": "stream",
     "text": [
      "            var_count\n",
      "pattern_id           \n",
      "1                1087\n",
      "2                1088\n",
      "3                1087\n",
      "4                1089\n",
      "5                1087\n"
     ]
    }
   ],
   "source": [
    "# Convert the Series to a DataFrame\n",
    "row_summary_vcf_filtered = pd.DataFrame(row_summary_vcf_filtered)\n",
    "\n",
    "# Rename the columns\n",
    "row_summary_vcf_filtered.columns = ['var_count']\n",
    "\n",
    "# Add 1 to the index to bring it in line with the original ID\n",
    "row_summary_vcf_filtered.index = row_summary_vcf_filtered.index + 1\n",
    "\n",
    "# Rename the index name to 'pattern_id'\n",
    "row_summary_vcf_filtered.index.name = 'pattern_id'\n",
    "\n",
    "# View the updated DataFrame\n",
    "print(row_summary_vcf_filtered.head())\n",
    "\n"
   ]
  },
  {
   "cell_type": "code",
   "execution_count": 14,
   "id": "4df6172b-7ac3-4a5c-a84a-85857a56eed9",
   "metadata": {},
   "outputs": [
    {
     "name": "stdout",
     "output_type": "stream",
     "text": [
      "           0      1      2      3      4      5      6      7      8      \\\n",
      "id             1      2      3      4      5      6      7      8      9   \n",
      "ERR084492      1      1      1      1      1      1      1      0      1   \n",
      "ERR084493      1      1      1      1      1      1      1      1      1   \n",
      "ERR084494      1      1      1      1      1      1      1      1      1   \n",
      "ERR084496      1      1      1      1      1      1      1      1      1   \n",
      "...          ...    ...    ...    ...    ...    ...    ...    ...    ...   \n",
      "ERR223163      1      1      1      1      1      1      1      1      1   \n",
      "ERR223165      1      1      1      1      1      1      1      1      1   \n",
      "ERR223166      1      1      1      1      1      1      1      1      1   \n",
      "ERR223167      1      1      1      1      1      1      1      1      1   \n",
      "ERR223168      1      1      1      1      1      1      1      1      1   \n",
      "\n",
      "           9      ...  54714  54715  54716  54717  54718  54719  54720  54721  \\\n",
      "id            10  ...  54715  54716  54717  54718  54719  54720  54721  54722   \n",
      "ERR084492      1  ...      0      0      0      0      0      0      0      0   \n",
      "ERR084493      1  ...      0      0      0      0      0      0      0      0   \n",
      "ERR084494      1  ...      0      0      0      0      0      0      0      0   \n",
      "ERR084496      1  ...      0      0      0      0      0      0      0      0   \n",
      "...          ...  ...    ...    ...    ...    ...    ...    ...    ...    ...   \n",
      "ERR223163      1  ...      0      0      0      0      0      0      0      0   \n",
      "ERR223165      1  ...      0      0      0      0      0      0      0      0   \n",
      "ERR223166      1  ...      0      0      0      0      0      0      0      0   \n",
      "ERR223167      1  ...      0      0      0      0      0      0      0      0   \n",
      "ERR223168      1  ...      0      0      0      0      0      0      0      0   \n",
      "\n",
      "           54722  54723  \n",
      "id         54723  54724  \n",
      "ERR084492      0      0  \n",
      "ERR084493      0      0  \n",
      "ERR084494      0      0  \n",
      "ERR084496      0      0  \n",
      "...          ...    ...  \n",
      "ERR223163      0      0  \n",
      "ERR223165      0      0  \n",
      "ERR223166      0      0  \n",
      "ERR223167      0      0  \n",
      "ERR223168      0      0  \n",
      "\n",
      "[1093 rows x 54724 columns]\n"
     ]
    }
   ],
   "source": [
    "# View the transposed DataFrame\n",
    "print(transposed_df)"
   ]
  },
  {
   "cell_type": "code",
   "execution_count": 15,
   "id": "18018238-67ba-414f-91a9-e26e30e2a8fc",
   "metadata": {},
   "outputs": [
    {
     "name": "stdout",
     "output_type": "stream",
     "text": [
      "           0  1  2  3  4  5  6  7  8   9  ...  54715  54716  54717  54718  \\\n",
      "id         1  2  3  4  5  6  7  8  9  10  ...  54716  54717  54718  54719   \n",
      "ERR084492  1  1  1  1  1  1  1  0  1   1  ...      0      0      0      0   \n",
      "ERR084493  1  1  1  1  1  1  1  1  1   1  ...      0      0      0      0   \n",
      "ERR084494  1  1  1  1  1  1  1  1  1   1  ...      0      0      0      0   \n",
      "ERR084496  1  1  1  1  1  1  1  1  1   1  ...      0      0      0      0   \n",
      "...       .. .. .. .. .. .. .. .. ..  ..  ...    ...    ...    ...    ...   \n",
      "ERR223163  1  1  1  1  1  1  1  1  1   1  ...      0      0      0      0   \n",
      "ERR223165  1  1  1  1  1  1  1  1  1   1  ...      0      0      0      0   \n",
      "ERR223166  1  1  1  1  1  1  1  1  1   1  ...      0      0      0      0   \n",
      "ERR223167  1  1  1  1  1  1  1  1  1   1  ...      0      0      0      0   \n",
      "ERR223168  1  1  1  1  1  1  1  1  1   1  ...      0      0      0      0   \n",
      "\n",
      "           54719  54720  54721  54722  54723  ENA_accession  \n",
      "id         54720  54721  54722  54723  54724             id  \n",
      "ERR084492      0      0      0      0      0      ERR084492  \n",
      "ERR084493      0      0      0      0      0      ERR084493  \n",
      "ERR084494      0      0      0      0      0      ERR084494  \n",
      "ERR084496      0      0      0      0      0      ERR084496  \n",
      "...          ...    ...    ...    ...    ...            ...  \n",
      "ERR223163      0      0      0      0      0      ERR223163  \n",
      "ERR223165      0      0      0      0      0      ERR223165  \n",
      "ERR223166      0      0      0      0      0      ERR223166  \n",
      "ERR223167      0      0      0      0      0      ERR223167  \n",
      "ERR223168      0      0      0      0      0      ERR223168  \n",
      "\n",
      "[1093 rows x 54725 columns]\n"
     ]
    }
   ],
   "source": [
    "# Move the row with index 'id' to column names and rename it to 'ENA_accession'\n",
    "#transposed_df.columns = transposed_df.loc['id'].values\n",
    "#transposed_df = transposed_df.drop('id')\n",
    "\n",
    "transposed_df['ENA_accession'] = transposed_df.index.values\n",
    "\n",
    "# Print the updated DataFrame\n",
    "print(transposed_df)"
   ]
  },
  {
   "cell_type": "code",
   "execution_count": 16,
   "id": "61661876-03d7-4854-9baa-669fcf88937e",
   "metadata": {},
   "outputs": [
    {
     "name": "stdout",
     "output_type": "stream",
     "text": [
      "'ENA_accession' is a column in the DataFrame\n"
     ]
    }
   ],
   "source": [
    "# check if ENA_accession is column in transposed_df\n",
    "if 'ENA_accession' in transposed_df.columns:\n",
    "    print(\"'ENA_accession' is a column in the DataFrame\")\n",
    "else:\n",
    "    print(\"'ENA_accession' is not a column in the DataFrame\")\n"
   ]
  },
  {
   "cell_type": "code",
   "execution_count": 17,
   "id": "a45f1d01-685d-45b2-9545-26ea728840ac",
   "metadata": {},
   "outputs": [
    {
     "name": "stdout",
     "output_type": "stream",
     "text": [
      "   ENA_accession  0  1  2  3  4  5  6  7  8  ...  54715  54716  54717  54718  \\\n",
      "0             id  1  2  3  4  5  6  7  8  9  ...  54716  54717  54718  54719   \n",
      "1      ERR084492  1  1  1  1  1  1  1  0  1  ...      0      0      0      0   \n",
      "2      ERR084493  1  1  1  1  1  1  1  1  1  ...      0      0      0      0   \n",
      "3      ERR084494  1  1  1  1  1  1  1  1  1  ...      0      0      0      0   \n",
      "4      ERR084496  1  1  1  1  1  1  1  1  1  ...      0      0      0      0   \n",
      "\n",
      "   54719  54720  54721  54722  54723  ENA_accession  \n",
      "0  54720  54721  54722  54723  54724             id  \n",
      "1      0      0      0      0      0      ERR084492  \n",
      "2      0      0      0      0      0      ERR084493  \n",
      "3      0      0      0      0      0      ERR084494  \n",
      "4      0      0      0      0      0      ERR084496  \n",
      "\n",
      "[5 rows x 54726 columns]\n"
     ]
    }
   ],
   "source": [
    "# reset the index and rename it\n",
    "transposed_df = transposed_df.reset_index()\n",
    "transposed_df = transposed_df.rename(columns={'index': 'ENA_accession'})\n",
    "print(transposed_df.head())"
   ]
  },
  {
   "cell_type": "code",
   "execution_count": 18,
   "id": "9bfd9c21-68d2-4aa4-af82-00d7031b5810",
   "metadata": {},
   "outputs": [
    {
     "name": "stdout",
     "output_type": "stream",
     "text": [
      "'ENA_accession' is a column in the DataFrame\n"
     ]
    }
   ],
   "source": [
    "# check if ENA_accession is column in transposed_df\n",
    "if 'ENA_accession' in transposed_df.columns:\n",
    "    print(\"'ENA_accession' is a column in the DataFrame\")\n",
    "else:\n",
    "    print(\"'ENA_accession' is not a column in the DataFrame\")"
   ]
  },
  {
   "cell_type": "code",
   "execution_count": 19,
   "id": "b65b5359-10c5-4459-b0e7-6c5b0669e7c2",
   "metadata": {},
   "outputs": [
    {
     "name": "stdout",
     "output_type": "stream",
     "text": [
      "No outliers are present in the transposed DataFrame.\n"
     ]
    }
   ],
   "source": [
    "outliers = ['ERR171907', 'ERR171908', 'ERR109547', 'ERR177226', 'ERR158992', 'ERR084680',\n",
    "            'ERR177155', 'ERR223120', 'ERR223125', 'ERR156506', 'ERR156441', 'ERR177156']\n",
    "\n",
    "# Check if outliers are present in the transposed DataFrame\n",
    "outliers_present = transposed_df.columns.isin(outliers)\n",
    "\n",
    "# Check if any outliers are present\n",
    "if outliers_present.any():\n",
    "    print(\"Outliers are present in the transposed DataFrame.\")\n",
    "else:\n",
    "    print(\"No outliers are present in the transposed DataFrame.\")\n"
   ]
  },
  {
   "cell_type": "code",
   "execution_count": 20,
   "id": "678e2007-1a6e-4f70-8e39-f22962e41837",
   "metadata": {},
   "outputs": [],
   "source": [
    "# load in metadata strain-ids.csv (converted manually from strain-ids.xls) to pd\n",
    "\n",
    "import pandas as pd\n",
    "\n",
    "metadata = pd.read_excel(\"strain-ids.xls\")\n",
    "\n",
    "outliers = ['ERR171907','ERR171908', 'ERR109547', 'ERR177226', 'ERR158992', 'ERR084680',\n",
    "            'ERR177155', 'ERR223120', 'ERR223125', 'ERR156506', 'ERR156441', 'ERR177156']\n",
    "\n",
    "# filter out outliers\n",
    "metadata_filtered = metadata[~metadata['ENA_accession'].isin(outliers)]\n",
    "metadata_filtered.index =metadata_filtered.index + 1\n",
    "\n"
   ]
  },
  {
   "cell_type": "code",
   "execution_count": 21,
   "id": "e16626b5-e2f6-4bdf-bc28-387c814debc7",
   "metadata": {},
   "outputs": [
    {
     "name": "stdout",
     "output_type": "stream",
     "text": [
      "['West-MidlandsC', 'West-MidlandsB', 'West-MidlandsA', 'WalesC', 'WalesB', 'WalesA', 'SouthCentralA', 'South-WestD', 'South-WestC', 'South-WestB', 'South-WestA', 'South-EastD', 'South-EastC', 'South-EastB', 'South-EastA', 'ScotlandH', 'ScotlandG', 'ScotlandF', 'ScotlandE', 'ScotlandD', 'ScotlandC', 'ScotlandB', 'ScotlandA', 'Northern IrelandD', 'Northern IrelandC', 'Northern IrelandB', 'Northern IrelandA', 'North-West 2A', 'North-West 1A', 'North-East 2A', 'North-East 1A', 'North-CentralB', 'North-CentralA', 'IrelandC', 'IrelandB', 'IrelandA', 'East-1G', 'East-1F', 'East-1E', 'East-1D', 'East-1C', 'East-1B', 'East-1A', 'East 2G', 'East 2F', 'East 2E', 'East 2D', 'East 2C', 'East 2B', 'East 2A', 'Central-East MidlandsB', 'Central-East MidlandsA']\n"
     ]
    }
   ],
   "source": [
    "countries = ['Northern Ireland', 'Ireland', 'Scotland', 'Wales']\n",
    "regions = ['South-East', 'West-Midlands', 'North-West', 'North-Central', 'Central-East Midlands', 'North-East', 'SouthCentral', 'South-West', 'East', 'South-East']\n",
    "regions.sort(reverse=True, key=len)\n",
    "hospitals = ['East 2G', 'Northern IrelandD', 'IrelandC', 'South-EastD',\n",
    "       'West-MidlandsA', 'WalesA', 'Northern IrelandA', 'WalesB',\n",
    "       'South-WestB', 'East-1C', 'North-West 1A', 'IrelandA',\n",
    "       'West-MidlandsC', 'North-CentralB', 'ScotlandG', 'North-West 2A',\n",
    "       'North-CentralA', 'ScotlandD', 'East 2B', 'Central-East MidlandsB',\n",
    "       'North-East 1A', 'West-MidlandsB', 'SouthCentralA', 'South-EastC',\n",
    "       'South-WestD', 'Central-East MidlandsA', 'ScotlandE', 'East-1A',\n",
    "       'ScotlandC', 'East 2A', 'South-EastB', 'ScotlandF', 'South-WestA',\n",
    "       'South-EastA', 'ScotlandH', 'ScotlandA', 'East-1D',\n",
    "       'Northern IrelandB', 'IrelandB', 'ScotlandB', 'WalesC',\n",
    "       'South-WestC', 'North-East 2A', 'Northern IrelandC', 'East 2C',\n",
    "       'East-1E', 'East-1F', 'East-1B', 'East 2F', 'East 2E', 'East 2D',\n",
    "       'East-1G']\n",
    "hospitals.sort(reverse=True)\n",
    "print(hospitals)"
   ]
  },
  {
   "cell_type": "code",
   "execution_count": 22,
   "id": "51c5adc1-2253-4d11-ab41-8cca7a8cc843",
   "metadata": {},
   "outputs": [
    {
     "name": "stdout",
     "output_type": "stream",
     "text": [
      "Head of metadata_filtered:\n",
      "  ENA_accession strainid Hospital Incl/Excl  Country Region\n",
      "1     ERR084492  ASARM61  East 2G   Include  England   East\n",
      "2     ERR084493  ASARM59  East 2G   Include  England   East\n",
      "3     ERR084494  ASARM62  East 2G   Include  England   East\n",
      "4     ERR084496  ASARM64  East 2G   Include  England   East\n",
      "5     ERR084497  ASARM65  East 2G   Include  England   East\n"
     ]
    },
    {
     "name": "stderr",
     "output_type": "stream",
     "text": [
      "C:\\Users\\tq22677\\AppData\\Local\\Temp\\ipykernel_18528\\1098455355.py:35: SettingWithCopyWarning: \n",
      "A value is trying to be set on a copy of a slice from a DataFrame.\n",
      "Try using .loc[row_indexer,col_indexer] = value instead\n",
      "\n",
      "See the caveats in the documentation: https://pandas.pydata.org/pandas-docs/stable/user_guide/indexing.html#returning-a-view-versus-a-copy\n",
      "  metadata_filtered['Country'] = metadata_filtered['Hospital'].apply(convert_to_country)\n",
      "C:\\Users\\tq22677\\AppData\\Local\\Temp\\ipykernel_18528\\1098455355.py:36: SettingWithCopyWarning: \n",
      "A value is trying to be set on a copy of a slice from a DataFrame.\n",
      "Try using .loc[row_indexer,col_indexer] = value instead\n",
      "\n",
      "See the caveats in the documentation: https://pandas.pydata.org/pandas-docs/stable/user_guide/indexing.html#returning-a-view-versus-a-copy\n",
      "  metadata_filtered['Region'] = metadata_filtered['Hospital'].apply(convert_to_region)\n"
     ]
    }
   ],
   "source": [
    "# wales has a,b,c ; scotland has a-h ; ireland has a-c ; northern ireland has a-d\n",
    "non_england_regions = ['Wales'+x for x in 'ABC']\n",
    "non_england_regions += ['Ireland'+x for x in 'ABC']\n",
    "non_england_regions += ['Northern Ireland'+x for x in 'ABCD']\n",
    "non_england_regions += ['Scotland'+x for x in 'ABCDEFGH']\n",
    "\n",
    "def convert_to_country(hospital):\n",
    "    country = \"\"\n",
    "    for c in countries:\n",
    "        if c in hospital:\n",
    "            country = c\n",
    "            break\n",
    "        # if no country found, must be england, and region is the whole substring found\n",
    "        country = \"England\"\n",
    "    return country\n",
    "\n",
    "def convert_to_region(hospital):\n",
    "    country = \"\"\n",
    "    region = \"\"\n",
    "    for c in countries:\n",
    "        if c in hospital:\n",
    "            country = c\n",
    "            break\n",
    "        # if no country found, must be england, and region is the whole substring found\n",
    "        country = \"England\"\n",
    "        for r in regions:\n",
    "            if r in hospital:\n",
    "                region = r\n",
    "                return region\n",
    "    for r in non_england_regions:\n",
    "        if r in hospital:\n",
    "            region = r\n",
    "    return region\n",
    "\n",
    "metadata_filtered['Country'] = metadata_filtered['Hospital'].apply(convert_to_country)\n",
    "metadata_filtered['Region'] = metadata_filtered['Hospital'].apply(convert_to_region)\n",
    "\n",
    "print(\"Head of metadata_filtered:\")\n",
    "print(metadata_filtered.head())"
   ]
  },
  {
   "cell_type": "code",
   "execution_count": 23,
   "id": "2a744f79-0715-4f72-81ec-28a879eb7655",
   "metadata": {},
   "outputs": [
    {
     "name": "stdout",
     "output_type": "stream",
     "text": [
      "Common columns: {'ENA_accession'}\n"
     ]
    }
   ],
   "source": [
    "# Get the column names of transposed_df and metadata_filtered\n",
    "transposed_columns = transposed_df.columns\n",
    "metadata_columns = metadata_filtered.columns\n",
    "\n",
    "# Find common columns\n",
    "common_columns = set(transposed_columns) & set(metadata_columns)\n",
    "\n",
    "# Check if there are any common columns\n",
    "if common_columns:\n",
    "    print(\"Common columns:\", common_columns)\n",
    "else:\n",
    "    print(\"No common columns found.\")\n"
   ]
  },
  {
   "cell_type": "code",
   "execution_count": 24,
   "id": "5afab67b-e61e-4cca-ab4c-437d6163c6f3",
   "metadata": {},
   "outputs": [
    {
     "name": "stdout",
     "output_type": "stream",
     "text": [
      "  ENA_accession strainid Hospital Incl/Excl  Country Region\n",
      "1     ERR084492  ASARM61  East 2G   Include  England   East\n",
      "2     ERR084493  ASARM59  East 2G   Include  England   East\n",
      "3     ERR084494  ASARM62  East 2G   Include  England   East\n",
      "4     ERR084496  ASARM64  East 2G   Include  England   East\n",
      "5     ERR084497  ASARM65  East 2G   Include  England   East\n",
      "  ENA_accession  0  1  2  3  4  5  6  7  8  ...  54714  54715  54716  54717  \\\n",
      "0            id  1  2  3  4  5  6  7  8  9  ...  54715  54716  54717  54718   \n",
      "1     ERR084492  1  1  1  1  1  1  1  0  1  ...      0      0      0      0   \n",
      "2     ERR084493  1  1  1  1  1  1  1  1  1  ...      0      0      0      0   \n",
      "3     ERR084494  1  1  1  1  1  1  1  1  1  ...      0      0      0      0   \n",
      "4     ERR084496  1  1  1  1  1  1  1  1  1  ...      0      0      0      0   \n",
      "\n",
      "   54718  54719  54720  54721  54722  54723  \n",
      "0  54719  54720  54721  54722  54723  54724  \n",
      "1      0      0      0      0      0      0  \n",
      "2      0      0      0      0      0      0  \n",
      "3      0      0      0      0      0      0  \n",
      "4      0      0      0      0      0      0  \n",
      "\n",
      "[5 rows x 54725 columns]\n"
     ]
    },
    {
     "name": "stderr",
     "output_type": "stream",
     "text": [
      "C:\\Users\\tq22677\\AppData\\Local\\Temp\\ipykernel_18528\\689334311.py:2: SettingWithCopyWarning: \n",
      "A value is trying to be set on a copy of a slice from a DataFrame.\n",
      "Try using .loc[row_indexer,col_indexer] = value instead\n",
      "\n",
      "See the caveats in the documentation: https://pandas.pydata.org/pandas-docs/stable/user_guide/indexing.html#returning-a-view-versus-a-copy\n",
      "  metadata_filtered['ENA_accession'] = metadata_filtered['ENA_accession'].astype(str)\n"
     ]
    },
    {
     "name": "stdout",
     "output_type": "stream",
     "text": [
      "                  strainid                Hospital Incl/Excl  Country  \\\n",
      "ENA_accession                                                           \n",
      "ERR124488      BSAC_st2994  Central-East MidlandsA   Include  England   \n",
      "ERR118488      BSAC_st1659  Central-East MidlandsA   Include  England   \n",
      "ERR158805      BSAC_st2566  Central-East MidlandsA   Include  England   \n",
      "ERR107947       BSAC_st910  Central-East MidlandsA   Include  England   \n",
      "ERR107946       BSAC_st909  Central-East MidlandsA   Include  England   \n",
      "\n",
      "                              Region  0  1  2  3  4  ...  54714  54715  54716  \\\n",
      "ENA_accession                                        ...                        \n",
      "ERR124488      Central-East Midlands  1  1  1  1  1  ...      0      0      0   \n",
      "ERR118488      Central-East Midlands  1  1  1  1  1  ...      0      0      0   \n",
      "ERR158805      Central-East Midlands  1  1  1  1  1  ...      0      0      0   \n",
      "ERR107947      Central-East Midlands  1  1  1  1  1  ...      0      0      0   \n",
      "ERR107946      Central-East Midlands  1  1  1  1  1  ...      0      0      0   \n",
      "\n",
      "               54717  54718  54719  54720  54721  54722  54723  \n",
      "ENA_accession                                                   \n",
      "ERR124488          0      0      0      0      0      0      0  \n",
      "ERR118488          0      0      0      0      0      0      0  \n",
      "ERR158805          0      0      0      0      0      0      0  \n",
      "ERR107947          0      0      0      0      0      0      0  \n",
      "ERR107946          0      0      0      0      0      0      0  \n",
      "\n",
      "[5 rows x 54729 columns]\n"
     ]
    }
   ],
   "source": [
    "# Convert 'ENA_accession' column to string data type in both dataframes\n",
    "metadata_filtered['ENA_accession'] = metadata_filtered['ENA_accession'].astype(str)\n",
    "transposed_df.columns = transposed_df.columns.astype(str)\n",
    "# remove the final column of transposed_df\n",
    "transposed_df = transposed_df.iloc[:, :-1]\n",
    "\n",
    "\n",
    "# Perform the join using 'ENA_accession' as the common column\n",
    "print(metadata_filtered.head())\n",
    "print(transposed_df.head())\n",
    "\n",
    "merged_df = metadata_filtered.set_index('ENA_accession').join(transposed_df.set_index('ENA_accession'), rsuffix='_transposed')\n",
    "#merged_df = metadata_filtered.join(transposed_df, on='ENA_accession', rsuffix='_transposed')\n",
    "#commented out sampling step\n",
    "#N = 1000\n",
    "#merged_df = merged_df.sample(n=N, replace=False)\n",
    "merged_df = merged_df.sort_values(by='Hospital')\n",
    "# Print the merged dataframe\n",
    "print(merged_df.head())"
   ]
  },
  {
   "cell_type": "code",
   "execution_count": 25,
   "id": "74086146-f384-4e2f-88a3-7bb290573cb4",
   "metadata": {
    "tags": []
   },
   "outputs": [
    {
     "data": {
      "text/plain": [
       "'\\n\\ntry:\\n    # To get rid of N, simply comment out those two lines.\\n    # To get rid of the 80%, use .fit(X,y) instead of cross_val_predict()\\n    X = merged_df.iloc[:, 5:].reset_index(drop=True)\\n    X.columns = [str(int(col) + 1) for col in X.columns]\\n    y = merged_df[\\'Hospital\\']\\n    y = y.reset_index(drop=True)\\n\\n    # Feature selection using SelectKBest with 12,000 features\\n    k_features = 12000\\n    selector = SelectKBest(score_func=f_classif, k=k_features)\\n    X_selected = selector.fit_transform(X, y)\\n\\n    # TPOT Classifier\\n    tpot = TPOTClassifier(generations=50, population_size=50, verbosity=2,\\n                          scoring=\\'f1_macro\\', cv=3,\\n                          n_jobs=-1)\\n    tpot.fit(X_selected, y)\\n\\n    # Display results\\n    best_pipeline = tpot.fitted_pipeline_\\n    print(best_pipeline)\\n\\n    # Export the best pipeline as a Python script\\n    tpot.export(\\'tpot_pipeline.py\\')\\n\\n    # Evaluate the pipeline on the test set\\n    test_score = tpot.score(X_selected, y)\\n    print(\"Test score (F1_macro):\", test_score)\\n    \\nexcept ValueError as e:\\n    print(\"An error occurred:\", e)\\n\\n'"
      ]
     },
     "execution_count": 25,
     "metadata": {},
     "output_type": "execute_result"
    }
   ],
   "source": [
    "#optimise model using TPOT for hospital using the optimal number of features found in previous stages and the best feature selection method\n",
    "\"\"\"\n",
    "try:\n",
    "    # To get rid of N, simply comment out those two lines.\n",
    "    # To get rid of the 80%, use .fit(X,y) instead of cross_val_predict()\n",
    "    X = merged_df.iloc[:, 5:].reset_index(drop=True)\n",
    "    X.columns = [str(int(col) + 1) for col in X.columns]\n",
    "    y = merged_df['Hospital']\n",
    "    y = y.reset_index(drop=True)\n",
    "\n",
    "    # Feature selection using SelectKBest with 12,000 features\n",
    "    k_features = 12000\n",
    "    selector = SelectKBest(score_func=f_classif, k=k_features)\n",
    "    X_selected = selector.fit_transform(X, y)\n",
    "\n",
    "    # TPOT Classifier\n",
    "    tpot = TPOTClassifier(generations=50, population_size=50, verbosity=2,\n",
    "                          scoring='f1_macro', cv=3,\n",
    "                          n_jobs=-1)\n",
    "    tpot.fit(X_selected, y)\n",
    "\n",
    "    # Display results\n",
    "    best_pipeline = tpot.fitted_pipeline_\n",
    "    print(best_pipeline)\n",
    "\n",
    "    # Export the best pipeline as a Python script\n",
    "    tpot.export('tpot_pipeline.py')\n",
    "\n",
    "    # Evaluate the pipeline on the test set\n",
    "    test_score = tpot.score(X_selected, y)\n",
    "    print(\"Test score (F1_macro):\", test_score)\n",
    "    \n",
    "except ValueError as e:\n",
    "    print(\"An error occurred:\", e)\n",
    "\n",
    "\"\"\""
   ]
  },
  {
   "cell_type": "code",
   "execution_count": 26,
   "id": "bd799c2d-97a2-4ab7-aa87-57970df9b54a",
   "metadata": {},
   "outputs": [
    {
     "name": "stderr",
     "output_type": "stream",
     "text": [
      "C:\\Users\\tq22677\\AppData\\Local\\anaconda3\\Lib\\site-packages\\sklearn\\model_selection\\_split.py:700: UserWarning: The least populated class in y has only 1 members, which is less than n_splits=3.\n",
      "  warnings.warn(\n",
      "C:\\Users\\tq22677\\AppData\\Local\\anaconda3\\Lib\\site-packages\\sklearn\\linear_model\\_stochastic_gradient.py:163: FutureWarning: The loss 'log' was deprecated in v1.1 and will be removed in version 1.3. Use `loss='log_loss'` which is equivalent.\n",
      "  warnings.warn(\n",
      "C:\\Users\\tq22677\\AppData\\Local\\anaconda3\\Lib\\site-packages\\sklearn\\linear_model\\_stochastic_gradient.py:163: FutureWarning: The loss 'log' was deprecated in v1.1 and will be removed in version 1.3. Use `loss='log_loss'` which is equivalent.\n",
      "  warnings.warn(\n",
      "C:\\Users\\tq22677\\AppData\\Local\\anaconda3\\Lib\\site-packages\\sklearn\\linear_model\\_stochastic_gradient.py:163: FutureWarning: The loss 'log' was deprecated in v1.1 and will be removed in version 1.3. Use `loss='log_loss'` which is equivalent.\n",
      "  warnings.warn(\n",
      "C:\\Users\\tq22677\\AppData\\Local\\anaconda3\\Lib\\site-packages\\sklearn\\model_selection\\_split.py:700: UserWarning: The least populated class in y has only 1 members, which is less than n_splits=3.\n",
      "  warnings.warn(\n",
      "C:\\Users\\tq22677\\AppData\\Local\\anaconda3\\Lib\\site-packages\\sklearn\\linear_model\\_stochastic_gradient.py:163: FutureWarning: The loss 'log' was deprecated in v1.1 and will be removed in version 1.3. Use `loss='log_loss'` which is equivalent.\n",
      "  warnings.warn(\n",
      "C:\\Users\\tq22677\\AppData\\Local\\anaconda3\\Lib\\site-packages\\sklearn\\linear_model\\_stochastic_gradient.py:163: FutureWarning: The loss 'log' was deprecated in v1.1 and will be removed in version 1.3. Use `loss='log_loss'` which is equivalent.\n",
      "  warnings.warn(\n",
      "C:\\Users\\tq22677\\AppData\\Local\\anaconda3\\Lib\\site-packages\\sklearn\\linear_model\\_stochastic_gradient.py:163: FutureWarning: The loss 'log' was deprecated in v1.1 and will be removed in version 1.3. Use `loss='log_loss'` which is equivalent.\n",
      "  warnings.warn(\n"
     ]
    },
    {
     "name": "stdout",
     "output_type": "stream",
     "text": [
      "TPOT selected system's results:\n",
      "scores: [0.57417582 0.58791209 0.63186813]\n",
      "0.598 +/- 0.025\n",
      "--------------------------------------------------------------------------------\n"
     ]
    }
   ],
   "source": [
    "# READ IN DATA\n",
    "# To get rid of N, simply comment out those two lines.\n",
    "# To get rid of the the 80%, use .fit(X,y) instead of\n",
    "# cross_val_predict()\n",
    "X = merged_df.iloc[:,5:].reset_index(drop=True)\n",
    "X.columns = [str(int(col)+1) for col in X.columns]\n",
    "#y = merged_df['Hospital']\n",
    "y = merged_df['Hospital']\n",
    "y = y.reset_index(drop=True)\n",
    "\n",
    "# RUN OPTIMISED TPOT MODEL FOR HOSPITAL\n",
    "exported_pipeline = make_pipeline(\n",
    "    MinMaxScaler(),\n",
    "    PCA(iterated_power=3, svd_solver=\"randomized\"),\n",
    "    SGDClassifier(alpha=0.0, eta0=0.01, fit_intercept=True, l1_ratio=1.0, learning_rate=\"constant\", loss=\"log\", penalty=\"elasticnet\", power_t=10.0)\n",
    ")\n",
    "\n",
    "scores = cross_val_score(exported_pipeline, X, y, cv=3)\n",
    "\n",
    "# Use cross-validation to obtain predictions\n",
    "predicted_y = cross_val_predict(exported_pipeline, X, y, cv=3)\n",
    "\n",
    "print(\"TPOT selected system's results:\")\n",
    "print(\"scores:\", scores)\n",
    "print(f\"{scores.mean():.3f} +/- {scores.std():.3f}\")\n",
    "print(\"-\"*80)\n"
   ]
  },
  {
   "cell_type": "code",
   "execution_count": 27,
   "id": "fd213e4c-60b7-45f5-b665-12c4c725e57a",
   "metadata": {},
   "outputs": [],
   "source": [
    "# Assuming 'ena_accession' is the relevant column in 'merged_df'\n",
    "accession_column = merged_df.index\n",
    "\n",
    "# Create the 'predictions' DataFrame\n",
    "predictions = pd.DataFrame({'ENA_accession': accession_column, 'Prediction': predicted_y})"
   ]
  },
  {
   "cell_type": "code",
   "execution_count": 28,
   "id": "8e64529f-7415-4618-8f81-42f29ab8b936",
   "metadata": {},
   "outputs": [],
   "source": [
    "predictions.to_excel('model_predictionshospital.xlsx', index=False)"
   ]
  },
  {
   "cell_type": "code",
   "execution_count": null,
   "id": "4f2024e3-06ac-4330-8e06-d404a1855933",
   "metadata": {},
   "outputs": [],
   "source": []
  }
 ],
 "metadata": {
  "kernelspec": {
   "display_name": "Python 3 (ipykernel)",
   "language": "python",
   "name": "python3"
  },
  "language_info": {
   "codemirror_mode": {
    "name": "ipython",
    "version": 3
   },
   "file_extension": ".py",
   "mimetype": "text/x-python",
   "name": "python",
   "nbconvert_exporter": "python",
   "pygments_lexer": "ipython3",
   "version": "3.11.3"
  }
 },
 "nbformat": 4,
 "nbformat_minor": 5
}
